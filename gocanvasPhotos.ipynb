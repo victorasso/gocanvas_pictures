{
 "cells": [
  {
   "cell_type": "markdown",
   "metadata": {},
   "source": [
    "# Extract gocanvas pictures and save it based on a CSV file\n",
    "\n",
    "This project consists in downloading a list of pictures from the URL, checking if the image already exists"
   ]
  },
  {
   "cell_type": "code",
   "execution_count": 3,
   "metadata": {},
   "outputs": [
    {
     "data": {
      "text/html": [
       "<div>\n",
       "<style scoped>\n",
       "    .dataframe tbody tr th:only-of-type {\n",
       "        vertical-align: middle;\n",
       "    }\n",
       "\n",
       "    .dataframe tbody tr th {\n",
       "        vertical-align: top;\n",
       "    }\n",
       "\n",
       "    .dataframe thead th {\n",
       "        text-align: right;\n",
       "    }\n",
       "</style>\n",
       "<table border=\"1\" class=\"dataframe\">\n",
       "  <thead>\n",
       "    <tr style=\"text-align: right;\">\n",
       "      <th></th>\n",
       "      <th>Id</th>\n",
       "      <th>App</th>\n",
       "      <th>Foto ID</th>\n",
       "    </tr>\n",
       "  </thead>\n",
       "  <tbody>\n",
       "    <tr>\n",
       "      <th>0</th>\n",
       "      <td>1</td>\n",
       "      <td>Teste 1</td>\n",
       "      <td>7027682685</td>\n",
       "    </tr>\n",
       "    <tr>\n",
       "      <th>1</th>\n",
       "      <td>2</td>\n",
       "      <td>Teste 1</td>\n",
       "      <td>6783928120</td>\n",
       "    </tr>\n",
       "    <tr>\n",
       "      <th>2</th>\n",
       "      <td>3</td>\n",
       "      <td>Teste 1</td>\n",
       "      <td>6775295429</td>\n",
       "    </tr>\n",
       "    <tr>\n",
       "      <th>3</th>\n",
       "      <td>4</td>\n",
       "      <td>Teste 2</td>\n",
       "      <td>6753788461</td>\n",
       "    </tr>\n",
       "    <tr>\n",
       "      <th>4</th>\n",
       "      <td>5</td>\n",
       "      <td>Teste 2</td>\n",
       "      <td>7344945208</td>\n",
       "    </tr>\n",
       "  </tbody>\n",
       "</table>\n",
       "</div>"
      ],
      "text/plain": [
       "   Id      App     Foto ID\n",
       "0   1  Teste 1  7027682685\n",
       "1   2  Teste 1  6783928120\n",
       "2   3  Teste 1  6775295429\n",
       "3   4  Teste 2  6753788461\n",
       "4   5  Teste 2  7344945208"
      ]
     },
     "execution_count": 3,
     "metadata": {},
     "output_type": "execute_result"
    }
   ],
   "source": [
    "# file with the images adress \n",
    "\n",
    "csvFile = \"fotos_teste.csv\"\n",
    "\n",
    "# Load the Pandas libraries with alias 'pd' \n",
    "import pandas as pd \n",
    "# Read data from file 'filename.csv' \n",
    "# (in the same directory that your python process is based)\n",
    "# Control delimiters, rows, column names with read_csv (see later) \n",
    "data = pd.read_csv(csvFile) \n",
    "# Preview the first 5 lines of the loaded data \n",
    "data.head()\n",
    "#data.describe()"
   ]
  },
  {
   "cell_type": "code",
   "execution_count": 71,
   "metadata": {},
   "outputs": [],
   "source": [
    "import os\n",
    "\n",
    "# create folders if not exist\n",
    "for app in data['App'].unique():\n",
    "    folder = \"{} - Fotos - Server\".format(app)\n",
    "    \n",
    "    if not os.path.exists(folder):\n",
    "        print('Creating Missing Folder: {}'.format(folder))\n",
    "        os.mkdir(folder)"
   ]
  },
  {
   "cell_type": "code",
   "execution_count": 73,
   "metadata": {},
   "outputs": [
    {
     "name": "stdout",
     "output_type": "stream",
     "text": [
     ]
    }
   ],
   "source": [
    "email = \"youremail@email.com\"\n",
    "password = \"yourPassword\"\n",
    "\n",
    "for index, row in data.iterrows():\n",
    "    fileName = \"{} - Fotos - Server/{}.jpg\".format(row['App'],row['Foto ID'])\n",
    "    # print(fileName)\n",
    "    if not os.path.isfile(fileName):\n",
    "        ## Set up the image URL and filename\n",
    "        image_url = \"https://www.gocanvas.com/apiv2/images.xml?username={}&password={}&image_id={}.jpg\".format(email,password,row['Foto ID'])\n",
    "\n",
    "        # Open the url image, set stream to True, this will return the stream content.\n",
    "        r = requests.get(image_url, stream = True)\n",
    "\n",
    "        # Check if the image was retrieved successfully\n",
    "        if r.status_code == 200:\n",
    "            # Set decode_content value to True, otherwise the downloaded image file's size will be zero.\n",
    "            r.raw.decode_content = True\n",
    "\n",
    "            # Open a local file with wb ( write binary ) permission.\n",
    "            with open(fileName,'wb') as f:\n",
    "                shutil.copyfileobj(r.raw, f)\n",
    "\n",
    "            print('Image sucessfully Downloaded: ',fileName)\n",
    "        else:\n",
    "            print('Image Couldn\\'t be retreived')\n",
    "\n",
    "    else:\n",
    "        print(\"Image Already Exists: {}\".format(fileName))"
   ]
  }
 ],
 "metadata": {
  "kernelspec": {
   "display_name": "Python 3",
   "language": "python",
   "name": "python3"
  },
  "language_info": {
   "codemirror_mode": {
    "name": "ipython",
    "version": 3
   },
   "file_extension": ".py",
   "mimetype": "text/x-python",
   "name": "python",
   "nbconvert_exporter": "python",
   "pygments_lexer": "ipython3",
   "version": "3.6.5"
  }
 },
 "nbformat": 4,
 "nbformat_minor": 2
}
